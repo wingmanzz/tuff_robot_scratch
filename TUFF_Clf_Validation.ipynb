{
 "cells": [
  {
   "cell_type": "code",
   "execution_count": 43,
   "id": "16a694e4",
   "metadata": {},
   "outputs": [],
   "source": [
    "# -*- coding: utf-8 -*-\n",
    "# Bethany Jackson, Scott Stewart, Ivan Echevarria, Nadia Aly, Brook Lautenslager\n",
    "# TUFF Classifier\n",
    "\n",
    "from sklearn.pipeline import Pipeline\n",
    "from sklearn.datasets import load_files\n",
    "from sklearn.model_selection import train_test_split\n",
    "import sklearn\n",
    "import os\n",
    "from sklearn.feature_extraction.text import CountVectorizer\n",
    "from sklearn.feature_extraction.text import TfidfTransformer\n",
    "from sklearn.naive_bayes import MultinomialNB\n",
    "from sklearn.linear_model import SGDClassifier\n",
    "from sklearn.metrics import balanced_accuracy_score\n",
    "from sklearn.model_selection import cross_val_score\n",
    "import glob\n",
    "import codecs\n",
    "from sklearn import metrics\n",
    "from sklearn.ensemble import BaggingClassifier\n",
    "import sys\n",
    "import datetime as dt\n",
    "#reload(sys)\n",
    "from threading import Timer\n",
    "import threading\n",
    "#sys.setdefaultencoding('UTF8')\n",
    "\n",
    "\n",
    "def create_data(train_folder):\n",
    "     train = sklearn.datasets.load_files(train_folder, description=None, categories=None, load_content=True, shuffle=True, encoding=None, decode_error='strict', random_state=0)\n",
    "     return train.data, train.target\n",
    "    \n",
    "\n",
    "def create_splits(train_folder): \n",
    "    print(\"Training the classifier...\")\n",
    "    # load the training set\n",
    "    train = sklearn.datasets.load_files(train_folder, description=None, categories=None, load_content=True, shuffle=True, encoding=None, decode_error='strict', random_state=0)\n",
    "\n",
    "    #train,test\n",
    "    X_train, X_test, y_train, y_test = train_test_split(train.data, train.target)\n",
    "    return X_train,X_test, y_train, y_test\n",
    "    \n",
    "def create_cl(X_train, y_train):\n",
    "    \n",
    "    print(\"Fitting Data\")\n",
    "    # fit the model to the data\n",
    "    text_clf = Pipeline([\n",
    "        ('vect', CountVectorizer()),\n",
    "        ('tfidf', TfidfTransformer()),\n",
    "        ('clf', SGDClassifier(loss='perceptron', penalty='l1', alpha=1e-4, max_iter=35, tol=float(\"-inf\"), random_state=42))\n",
    "    ])\n",
    "    \n",
    "    text_clf = text_clf.fit(X_train, y_train)\n",
    "    return text_clf\n",
    "\n",
    "def score_cl(clf, X, y):\n",
    "    print(\"Scoring Data\")\n",
    "    return cross_val_score(clf, X_data, y_data, cv=5, scoring='balanced_accuracy')\n",
    "    "
   ]
  },
  {
   "cell_type": "code",
   "execution_count": 44,
   "id": "838ea8ce",
   "metadata": {},
   "outputs": [
    {
     "name": "stdout",
     "output_type": "stream",
     "text": [
      "Fitting Data\n",
      "Scoring Data\n",
      "Avg Bal Accuracy is 0.7070115136315603\n"
     ]
    }
   ],
   "source": [
    "#input = input\n",
    "dir_path = os.path.abspath('')\n",
    "full_train_folder = 'tuff-robot-master/dna_robot/china_donor_v3'\n",
    "\n",
    "X_data, y_data = create_data(train_folder)\n",
    "#X_train,X_test, y_train, y_test = create_splits(train_folder)\n",
    "clf = create_cl(X_data, y_data)\n",
    "scores = score_cl(clf, X_data, y_data)\n",
    "print(\"Avg Bal Accuracy is\", scores.mean())\n",
    "\n",
    "#score_cl(clf, y_test)\n"
   ]
  },
  {
   "cell_type": "code",
   "execution_count": null,
   "id": "0f2dea6e",
   "metadata": {},
   "outputs": [],
   "source": []
  }
 ],
 "metadata": {
  "kernelspec": {
   "display_name": "Python 3 (ipykernel)",
   "language": "python",
   "name": "python3"
  },
  "language_info": {
   "codemirror_mode": {
    "name": "ipython",
    "version": 3
   },
   "file_extension": ".py",
   "mimetype": "text/x-python",
   "name": "python",
   "nbconvert_exporter": "python",
   "pygments_lexer": "ipython3",
   "version": "3.8.3"
  }
 },
 "nbformat": 4,
 "nbformat_minor": 5
}
